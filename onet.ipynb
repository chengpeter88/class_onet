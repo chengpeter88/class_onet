{
  "nbformat": 4,
  "nbformat_minor": 0,
  "metadata": {
    "colab": {
      "provenance": [],
      "authorship_tag": "ABX9TyPZD5qF9wcW6FMsZVdZ8ggR",
      "include_colab_link": true
    },
    "kernelspec": {
      "name": "python3",
      "display_name": "Python 3"
    },
    "language_info": {
      "name": "python"
    }
  },
  "cells": [
    {
      "cell_type": "markdown",
      "metadata": {
        "id": "view-in-github",
        "colab_type": "text"
      },
      "source": [
        "<a href=\"https://colab.research.google.com/github/chengpeter88/class_onet/blob/main/onet.ipynb\" target=\"_parent\"><img src=\"https://colab.research.google.com/assets/colab-badge.svg\" alt=\"Open In Colab\"/></a>"
      ]
    },
    {
      "cell_type": "code",
      "source": [
        "#下載自己做標該計畫套件，只需需要下載一次，如果下次執行無法使用以下指令，再下載一次！\n",
        "pip install git+https://github.com/chengpeter88/class_onet@v1.0.0"
      ],
      "metadata": {
        "id": "296WFEQKCFbz",
        "colab": {
          "base_uri": "https://localhost:8080/"
        },
        "outputId": "f695d882-42a6-431d-d35f-b40d36f5142a"
      },
      "execution_count": 12,
      "outputs": [
        {
          "output_type": "stream",
          "name": "stdout",
          "text": [
            "Collecting git+https://github.com/chengpeter88/class_onet@v1.0.0\n",
            "  Cloning https://github.com/chengpeter88/class_onet (to revision v1.0.0) to /tmp/pip-req-build-nf908628\n",
            "  Running command git clone --filter=blob:none --quiet https://github.com/chengpeter88/class_onet /tmp/pip-req-build-nf908628\n",
            "  Running command git checkout -q 37e29b50f884fd63a855be724bbee22965f0a9dc\n",
            "  Resolved https://github.com/chengpeter88/class_onet to commit 37e29b50f884fd63a855be724bbee22965f0a9dc\n",
            "  Preparing metadata (setup.py) ... \u001b[?25l\u001b[?25hdone\n",
            "Requirement already satisfied: requests in /usr/local/lib/python3.10/dist-packages (from Onet==1.0.0) (2.31.0)\n",
            "Requirement already satisfied: pandas in /usr/local/lib/python3.10/dist-packages (from Onet==1.0.0) (1.5.3)\n",
            "Requirement already satisfied: bs4 in /usr/local/lib/python3.10/dist-packages (from Onet==1.0.0) (0.0.1)\n",
            "Requirement already satisfied: beautifulsoup4 in /usr/local/lib/python3.10/dist-packages (from bs4->Onet==1.0.0) (4.11.2)\n",
            "Requirement already satisfied: python-dateutil>=2.8.1 in /usr/local/lib/python3.10/dist-packages (from pandas->Onet==1.0.0) (2.8.2)\n",
            "Requirement already satisfied: pytz>=2020.1 in /usr/local/lib/python3.10/dist-packages (from pandas->Onet==1.0.0) (2023.3.post1)\n",
            "Requirement already satisfied: numpy>=1.21.0 in /usr/local/lib/python3.10/dist-packages (from pandas->Onet==1.0.0) (1.23.5)\n",
            "Requirement already satisfied: charset-normalizer<4,>=2 in /usr/local/lib/python3.10/dist-packages (from requests->Onet==1.0.0) (3.3.2)\n",
            "Requirement already satisfied: idna<4,>=2.5 in /usr/local/lib/python3.10/dist-packages (from requests->Onet==1.0.0) (3.6)\n",
            "Requirement already satisfied: urllib3<3,>=1.21.1 in /usr/local/lib/python3.10/dist-packages (from requests->Onet==1.0.0) (2.0.7)\n",
            "Requirement already satisfied: certifi>=2017.4.17 in /usr/local/lib/python3.10/dist-packages (from requests->Onet==1.0.0) (2023.11.17)\n",
            "Requirement already satisfied: six>=1.5 in /usr/local/lib/python3.10/dist-packages (from python-dateutil>=2.8.1->pandas->Onet==1.0.0) (1.16.0)\n",
            "Requirement already satisfied: soupsieve>1.2 in /usr/local/lib/python3.10/dist-packages (from beautifulsoup4->bs4->Onet==1.0.0) (2.5)\n"
          ]
        }
      ]
    },
    {
      "cell_type": "code",
      "source": [
        "#使用套件\n",
        "\n",
        "from class_onet import Onet"
      ],
      "metadata": {
        "id": "0408I7EQqYT_"
      },
      "execution_count": 9,
      "outputs": []
    },
    {
      "cell_type": "code",
      "source": [
        "# 設定首先進入職業code總表：https://www.onetonline.org/find/all。 -> 選要的職業EX:Agricultural Engineers -> copy web link to url 可以替換\n",
        "# 按下播放鍵，初始化模組，出現有打勾即可\n",
        "url = 'https://www.onetonline.org/link/summary/17-2021.00'\n",
        "\n",
        "onet=Onet(url=url)"
      ],
      "metadata": {
        "id": "txdIWYO0uCvi"
      },
      "execution_count": 10,
      "outputs": []
    },
    {
      "cell_type": "code",
      "source": [
        "# 表格中職業前半資訊\n",
        "# job zone\n",
        "# SVP range\n",
        "# Education\n",
        "# Time pressure等\n",
        "## NOTICE : 部分職業魔沒有資訊會出現not found 屬於正常\n",
        "onet.get_info()"
      ],
      "metadata": {
        "colab": {
          "base_uri": "https://localhost:8080/"
        },
        "id": "Y0eLcfUAuIcJ",
        "outputId": "d564f112-7e2c-44de-f3e0-cbe972c4c546"
      },
      "execution_count": 5,
      "outputs": [
        {
          "output_type": "execute_result",
          "data": {
            "text/plain": [
              "{'Title': 'Job Zone Four: Considerable Preparation Needed',\n",
              " 'SVP Range': '(7.0 to < 8.0)',\n",
              " 'Education': \"Most of these occupations require a four-year bachelor's degree, but some do not.\",\n",
              " 'Time Pressure': '46% responded “Once a month or more but not every week.”\\nRelated occupations',\n",
              " 'Projected growth': 'Faster than average (5% to 8%)'}"
            ]
          },
          "metadata": {},
          "execution_count": 5
        }
      ]
    },
    {
      "cell_type": "code",
      "source": [
        "# 表格中項，計算出特定性質出現次數，注意數字只會有1,0 出現不只1次代表有問題，需要人工檢查\n",
        "onet.work_knowledge()"
      ],
      "metadata": {
        "colab": {
          "base_uri": "https://localhost:8080/"
        },
        "id": "b7xWmGSsuLRJ",
        "outputId": "479d22a9-3677-42f3-bafa-c94fd8ceb1ee"
      },
      "execution_count": 11,
      "outputs": [
        {
          "output_type": "stream",
          "name": "stdout",
          "text": [
            "                         Arts and Humanities\n",
            "English Language                           1\n",
            "Fine Arts                                  0\n",
            "Foreign Language                           0\n",
            "History and Archeology                     0\n",
            "Philosophy and Theology                    0\n",
            "Education and Training                     1\n",
            "                        Health Services\n",
            "Medicine and Dentistry                0\n",
            "Therapy and Counseling                0\n",
            "                               Business and Management\n",
            "Administration and Management                        1\n",
            "Administrative                                       0\n",
            "Customer and Personal Service                        1\n",
            "Economics and Accounting                             0\n",
            "Personnel and Human Resources                        0\n",
            "Sales and Marketing                                  0\n",
            "             Mathematics and Science\n",
            "Biology                            1\n",
            "Chemistry                          1\n",
            "Geography                          0\n",
            "Mathematics                        2\n",
            "Physics                            1\n",
            "                            Engineering and IT\n",
            "Building and Construction                    1\n",
            "Computers and Electronics                    1\n",
            "Design                                       1\n",
            "Engineering and Technology                   1\n",
            "Mechanical                                   1\n",
            "Communications and Media                     0\n",
            "Telecommunications                           0\n",
            "Food Production                              1\n",
            "Production and Processing                    1\n",
            "Transportation                               0\n"
          ]
        }
      ]
    },
    {
      "cell_type": "code",
      "source": [
        "# 表格後半部 ，出現次數需注意有否超過1以上\n",
        "onet.work_skill()"
      ],
      "metadata": {
        "colab": {
          "base_uri": "https://localhost:8080/"
        },
        "id": "QDMO8g1cuPM8",
        "outputId": "4b048448-78f4-48b3-eba9-a98be05205fc"
      },
      "execution_count": 7,
      "outputs": [
        {
          "output_type": "stream",
          "name": "stdout",
          "text": [
            "                              Complex Problem Solving & Systems Skills\n",
            "Complex Problem Solving                                              1\n",
            "Judgment and Decision Making                                         1\n",
            "Systems Analysis                                                     1\n",
            "Systems Evaluation                                                   1\n",
            "                                   Resource Management Skills\n",
            "Management of Financial Resources                           0\n",
            "Management of Material Resources                            0\n",
            "Management of Personnel Resources                           1\n",
            "Time Management                                             1\n",
            "                       Social Skills\n",
            "Coordination                       1\n",
            "Instructing                        1\n",
            "Negotiation                        1\n",
            "Persuasion                         1\n",
            "Service Orientation                1\n",
            "Social Perceptiveness              1\n",
            "                          Technical Skills\n",
            "Equipment Maintenance                    0\n",
            "Equipment Selection                      0\n",
            "Installation                             0\n",
            "Operation and Control                    0\n",
            "Operations Analysis                      1\n",
            "Operations Monitoring                    1\n",
            "Programming                              0\n",
            "Quality Control Analysis                 0\n",
            "Repairing                                0\n",
            "Technology Design                        0\n",
            "Troubleshooting                          0\n"
          ]
        }
      ]
    },
    {
      "cell_type": "code",
      "source": [],
      "metadata": {
        "id": "INeA3hy1uW1Q"
      },
      "execution_count": null,
      "outputs": []
    }
  ]
}